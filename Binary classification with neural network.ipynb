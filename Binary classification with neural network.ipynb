{
 "cells": [
  {
   "cell_type": "markdown",
   "id": "c6332c3e-8db3-46aa-8b6d-26767bc5522b",
   "metadata": {
    "tags": []
   },
   "source": [
    "# Classifying movie reviews: a binary classification example"
   ]
  },
  {
   "cell_type": "code",
   "execution_count": 36,
   "id": "11adff69-2620-4775-9595-fe0920cf8c0a",
   "metadata": {},
   "outputs": [],
   "source": [
    "from tensorflow.keras.datasets import imdb"
   ]
  },
  {
   "cell_type": "code",
   "execution_count": 37,
   "id": "b1449ead-a82b-454b-8946-d7b2708090d1",
   "metadata": {},
   "outputs": [
    {
     "name": "stderr",
     "output_type": "stream",
     "text": [
      "/Users/david/opt/anaconda3/lib/python3.9/site-packages/tensorflow/python/keras/datasets/imdb.py:128: VisibleDeprecationWarning: Creating an ndarray from ragged nested sequences (which is a list-or-tuple of lists-or-tuples-or ndarrays with different lengths or shapes) is deprecated. If you meant to do this, you must specify 'dtype=object' when creating the ndarray.\n",
      "  x_train, y_train = np.array(xs[:idx]), np.array(labels[:idx])\n",
      "/Users/david/opt/anaconda3/lib/python3.9/site-packages/tensorflow/python/keras/datasets/imdb.py:129: VisibleDeprecationWarning: Creating an ndarray from ragged nested sequences (which is a list-or-tuple of lists-or-tuples-or ndarrays with different lengths or shapes) is deprecated. If you meant to do this, you must specify 'dtype=object' when creating the ndarray.\n",
      "  x_test, y_test = np.array(xs[idx:]), np.array(labels[idx:])\n"
     ]
    }
   ],
   "source": [
    "import numpy as np\n",
    "# save np.load\n",
    "np_load_old = np.load\n",
    "\n",
    "# modify the default parameters of np.load\n",
    "np.load = lambda *a,**k: np_load_old(*a, allow_pickle=True, **k)\n",
    "\n",
    "# call load_data with allow_pickle implicitly set to true\n",
    "(train_data, train_labels), (test_data, test_labels) = imdb.load_data(num_words=10000)\n",
    "\n",
    "# restore np.load for future normal usage\n",
    "np.load = np_load_old"
   ]
  },
  {
   "cell_type": "code",
   "execution_count": 38,
   "id": "3a76b8d5-b895-42ab-a822-d457fc47ed07",
   "metadata": {},
   "outputs": [
    {
     "data": {
      "text/plain": [
       "9999"
      ]
     },
     "execution_count": 38,
     "metadata": {},
     "output_type": "execute_result"
    }
   ],
   "source": [
    "max([max(i) for i in train_data])"
   ]
  },
  {
   "cell_type": "code",
   "execution_count": 39,
   "id": "cc5516d8-d248-4bf3-b5d3-4b29f7df54d4",
   "metadata": {},
   "outputs": [],
   "source": [
    "word_index = imdb.get_word_index()"
   ]
  },
  {
   "cell_type": "code",
   "execution_count": 40,
   "id": "d8c74c2a-5276-4fef-8ba2-77b9fea38c91",
   "metadata": {},
   "outputs": [],
   "source": [
    "revise_index = dict([(value, key) for (key, value) in word_index.items()])"
   ]
  },
  {
   "cell_type": "code",
   "execution_count": 41,
   "id": "8f478555-8b43-4e4c-91e0-68f88f4d2a0b",
   "metadata": {},
   "outputs": [],
   "source": [
    "decoded_review = ' '.join([revise_index.get(i-3,'?') for i in train_data[0]])"
   ]
  },
  {
   "cell_type": "code",
   "execution_count": 42,
   "id": "8fb584ec-056a-47d9-a709-1d0cfc739c0b",
   "metadata": {},
   "outputs": [
    {
     "data": {
      "text/plain": [
       "\"? this film was just brilliant casting location scenery story direction everyone's really suited the part they played and you could just imagine being there robert ? is an amazing actor and now the same being director ? father came from the same scottish island as myself so i loved the fact there was a real connection with this film the witty remarks throughout the film were great it was just brilliant so much that i bought the film as soon as it was released for ? and would recommend it to everyone to watch and the fly fishing was amazing really cried at the end it was so sad and you know what they say if you cry at a film it must have been good and this definitely was also ? to the two little boy's that played the ? of norman and paul they were just brilliant children are often left out of the ? list i think because the stars that play them all grown up are such a big profile for the whole film but these children are amazing and should be praised for what they have done don't you think the whole story was so lovely because it was true and was someone's life after all that was shared with us all\""
      ]
     },
     "execution_count": 42,
     "metadata": {},
     "output_type": "execute_result"
    }
   ],
   "source": [
    "decoded_review"
   ]
  },
  {
   "cell_type": "code",
   "execution_count": 93,
   "id": "875ba6f1-95b5-4158-bf56-e0bccef8ccd4",
   "metadata": {},
   "outputs": [
    {
     "name": "stdout",
     "output_type": "stream",
     "text": [
      "7486\n"
     ]
    }
   ],
   "source": [
    "newlst = sorted(train_data[0], reverse=True)\n",
    "print(newlst)"
   ]
  },
  {
   "cell_type": "code",
   "execution_count": 67,
   "id": "80a20a1c-493f-422d-b6b5-f43f726aac36",
   "metadata": {},
   "outputs": [
    {
     "data": {
      "text/plain": [
       "7486"
      ]
     },
     "execution_count": 67,
     "metadata": {},
     "output_type": "execute_result"
    }
   ],
   "source": [
    "max(train_data[0])"
   ]
  },
  {
   "cell_type": "code",
   "execution_count": 72,
   "id": "db0a6a23-b9b3-42da-a89d-c9fe7b3f8a5c",
   "metadata": {},
   "outputs": [
    {
     "data": {
      "text/plain": [
       "25000"
      ]
     },
     "execution_count": 72,
     "metadata": {},
     "output_type": "execute_result"
    }
   ],
   "source": [
    "len(train_data)"
   ]
  },
  {
   "cell_type": "code",
   "execution_count": 114,
   "id": "89b5f19b-f852-4f6e-89d4-6ad02ad381a9",
   "metadata": {},
   "outputs": [
    {
     "data": {
      "text/plain": [
       "25000"
      ]
     },
     "execution_count": 114,
     "metadata": {},
     "output_type": "execute_result"
    }
   ],
   "source": [
    "len(test_data)"
   ]
  },
  {
   "cell_type": "code",
   "execution_count": 99,
   "id": "9d8988dd-58c3-4390-bc74-02dd87f1c72f",
   "metadata": {},
   "outputs": [],
   "source": [
    "def vectorize_sequences(sequences, dimension=10000):\n",
    "    results = np.zeros((len(sequences), dimension)) \n",
    "    for i, sequence in enumerate(sequences):\n",
    "        results[i, sequence] = 1        \n",
    "    return results"
   ]
  },
  {
   "cell_type": "code",
   "execution_count": 115,
   "id": "23ba8f3f-6673-4b54-980a-629326cd079c",
   "metadata": {},
   "outputs": [],
   "source": [
    "x_train = vectorize_sequences(train_data)\n",
    "x_test = vectorize_sequences(test_data)"
   ]
  },
  {
   "cell_type": "code",
   "execution_count": 145,
   "id": "891adc04-fd22-4e62-b458-486afcc03385",
   "metadata": {},
   "outputs": [
    {
     "data": {
      "text/plain": [
       "array([0., 1., 1., ..., 0., 0., 0.])"
      ]
     },
     "execution_count": 145,
     "metadata": {},
     "output_type": "execute_result"
    }
   ],
   "source": [
    "x_train[0, :]"
   ]
  },
  {
   "cell_type": "code",
   "execution_count": 116,
   "id": "fdf8ba11-8cb1-454a-9eea-887dada32a58",
   "metadata": {},
   "outputs": [],
   "source": [
    "result = np.zeros((25000, 10000))"
   ]
  },
  {
   "cell_type": "code",
   "execution_count": 123,
   "id": "6ee318d2-1a1c-4a97-98f5-77ee181ff547",
   "metadata": {},
   "outputs": [],
   "source": [
    "result[0, train_data[0]] = 1"
   ]
  },
  {
   "cell_type": "code",
   "execution_count": 147,
   "id": "868e9e4b-a9f8-44a0-be6c-3bad9b5914e3",
   "metadata": {},
   "outputs": [],
   "source": [
    "y_train = np.array(train_labels).astype('float32')\n",
    "y_test = np.array(test_labels).astype('float32')"
   ]
  },
  {
   "cell_type": "code",
   "execution_count": null,
   "id": "207d9cb0-d5be-4f46-bb70-8618abf95278",
   "metadata": {},
   "outputs": [],
   "source": []
  },
  {
   "cell_type": "code",
   "execution_count": 149,
   "id": "f04985e0-52b4-4dd7-a5fd-e6b24b36626f",
   "metadata": {},
   "outputs": [],
   "source": [
    "from tensorflow.keras import layers, models"
   ]
  },
  {
   "cell_type": "code",
   "execution_count": 156,
   "id": "a3300cec-8d34-4af5-8d1c-cf72b7215a47",
   "metadata": {},
   "outputs": [],
   "source": [
    "network = models.Sequential()\n",
    "network.add(layers.Dense(16, activation='relu', input_shape=(10000,)))\n",
    "network.add(layers.Dense(16, activation='relu'))\n",
    "network.add(layers.Dense(1, activation='sigmoid'))\n",
    "network.compile(optimizer='rmsprop', loss='binary_crossentropy', metrics=['accuracy']) \n",
    "# optimizer=optimizers.RMSprop(lr=0.001)\n",
    "# metrics=[metrics.binary_accuracy]\n",
    "# sigmoid = 1 / (1 + np.exp(-x))"
   ]
  },
  {
   "cell_type": "code",
   "execution_count": 157,
   "id": "6d97de3e-b526-46b0-900c-8a265ee8b07c",
   "metadata": {},
   "outputs": [],
   "source": [
    "from sklearn.model_selection import train_test_split"
   ]
  },
  {
   "cell_type": "code",
   "execution_count": 159,
   "id": "b9aec353-7530-41cd-82d3-0df4fef9e619",
   "metadata": {},
   "outputs": [],
   "source": [
    "Xpart, Xval, ypart, yval = train_test_split(x_train, y_train)"
   ]
  },
  {
   "cell_type": "code",
   "execution_count": 160,
   "id": "457eafcf-6633-4609-982f-1a35effcef9d",
   "metadata": {},
   "outputs": [
    {
     "name": "stdout",
     "output_type": "stream",
     "text": [
      "Train on 18750 samples, validate on 6250 samples\n",
      "Epoch 1/20\n",
      "18750/18750 [==============================] - 3s 185us/step - loss: 0.4809 - acc: 0.8025 - val_loss: 0.3517 - val_acc: 0.8750\n",
      "Epoch 2/20\n",
      "18750/18750 [==============================] - 1s 63us/step - loss: 0.2812 - acc: 0.9041 - val_loss: 0.2886 - val_acc: 0.8898\n",
      "Epoch 3/20\n",
      "18750/18750 [==============================] - 1s 63us/step - loss: 0.2101 - acc: 0.9293 - val_loss: 0.2730 - val_acc: 0.8944\n",
      "Epoch 4/20\n",
      "18750/18750 [==============================] - 1s 63us/step - loss: 0.1693 - acc: 0.9429 - val_loss: 0.2737 - val_acc: 0.8942\n",
      "Epoch 5/20\n",
      "18750/18750 [==============================] - 1s 64us/step - loss: 0.1426 - acc: 0.9524 - val_loss: 0.2863 - val_acc: 0.8923\n",
      "Epoch 6/20\n",
      "18750/18750 [==============================] - 1s 62us/step - loss: 0.1204 - acc: 0.9609 - val_loss: 0.3000 - val_acc: 0.8933\n",
      "Epoch 7/20\n",
      "18750/18750 [==============================] - 1s 63us/step - loss: 0.1027 - acc: 0.9682 - val_loss: 0.3214 - val_acc: 0.8885\n",
      "Epoch 8/20\n",
      "18750/18750 [==============================] - 1s 64us/step - loss: 0.0899 - acc: 0.9722 - val_loss: 0.3430 - val_acc: 0.8856\n",
      "Epoch 9/20\n",
      "18750/18750 [==============================] - 1s 67us/step - loss: 0.0721 - acc: 0.9796 - val_loss: 0.3660 - val_acc: 0.8835\n",
      "Epoch 10/20\n",
      "18750/18750 [==============================] - 1s 74us/step - loss: 0.0626 - acc: 0.9833 - val_loss: 0.4303 - val_acc: 0.8752\n",
      "Epoch 11/20\n",
      "18750/18750 [==============================] - 1s 63us/step - loss: 0.0532 - acc: 0.9854 - val_loss: 0.4226 - val_acc: 0.8802\n",
      "Epoch 12/20\n",
      "18750/18750 [==============================] - 1s 63us/step - loss: 0.0444 - acc: 0.9887 - val_loss: 0.4496 - val_acc: 0.8803\n",
      "Epoch 13/20\n",
      "18750/18750 [==============================] - 1s 61us/step - loss: 0.0361 - acc: 0.9911 - val_loss: 0.4903 - val_acc: 0.8752\n",
      "Epoch 14/20\n",
      "18750/18750 [==============================] - 1s 60us/step - loss: 0.0275 - acc: 0.9940 - val_loss: 0.5100 - val_acc: 0.8758\n",
      "Epoch 15/20\n",
      "18750/18750 [==============================] - 1s 62us/step - loss: 0.0266 - acc: 0.9939 - val_loss: 0.5362 - val_acc: 0.8755\n",
      "Epoch 16/20\n",
      "18750/18750 [==============================] - 1s 64us/step - loss: 0.0177 - acc: 0.9966 - val_loss: 0.5693 - val_acc: 0.8733\n",
      "Epoch 17/20\n",
      "18750/18750 [==============================] - 1s 64us/step - loss: 0.0144 - acc: 0.9980 - val_loss: 0.6061 - val_acc: 0.8715\n",
      "Epoch 18/20\n",
      "18750/18750 [==============================] - 1s 66us/step - loss: 0.0121 - acc: 0.9979 - val_loss: 0.6349 - val_acc: 0.8682\n",
      "Epoch 19/20\n",
      "18750/18750 [==============================] - 1s 62us/step - loss: 0.0117 - acc: 0.9977 - val_loss: 0.6651 - val_acc: 0.8686\n",
      "Epoch 20/20\n",
      "18750/18750 [==============================] - 1s 72us/step - loss: 0.0086 - acc: 0.9985 - val_loss: 0.6933 - val_acc: 0.8678\n"
     ]
    }
   ],
   "source": [
    "history = network.fit(Xpart, ypart, epochs=20, batch_size=512, validation_data=(Xval, yval))"
   ]
  },
  {
   "cell_type": "code",
   "execution_count": 162,
   "id": "2f0968b0-d377-46a8-a2a6-af44475f80c0",
   "metadata": {},
   "outputs": [],
   "source": [
    "hist_dict=history.history"
   ]
  },
  {
   "cell_type": "code",
   "execution_count": 163,
   "id": "f88bd893-9002-4854-a7b0-fa006a9cb54c",
   "metadata": {},
   "outputs": [
    {
     "data": {
      "text/plain": [
       "dict_keys(['val_loss', 'val_acc', 'loss', 'acc'])"
      ]
     },
     "execution_count": 163,
     "metadata": {},
     "output_type": "execute_result"
    }
   ],
   "source": [
    "hist_dict.keys()"
   ]
  },
  {
   "cell_type": "code",
   "execution_count": 169,
   "id": "86db8a9b-7924-4c4a-b979-a6c5254916c0",
   "metadata": {},
   "outputs": [],
   "source": [
    "loss_values = hist_dict['loss']\n",
    "loss_val = hist_dict['val_loss']\n",
    "epoches = range(1, 20+1)"
   ]
  },
  {
   "cell_type": "code",
   "execution_count": 173,
   "id": "9d3d6959-7474-4376-bab5-7676c3a61fd4",
   "metadata": {},
   "outputs": [
    {
     "data": {
      "image/png": "[encoded data removed]",
      "text/plain": [
       "<Figure size 432x288 with 1 Axes>"
      ]
     },
     "metadata": {
      "needs_background": "light"
     },
     "output_type": "display_data"
    }
   ],
   "source": [
    "plt.plot(epoches, loss_values, 'bo', label='Training loss')\n",
    "plt.plot(epoches, loss_val, 'b', label='validation loss')\n",
    "plt.title('training and validation loss')\n",
    "plt.xlabel('Epoches')\n",
    "plt.ylabel('Loss')\n",
    "plt.legend();"
   ]
  },
  {
   "cell_type": "code",
   "execution_count": 174,
   "id": "cdc84bd5-fb87-4ec7-8bd5-5e879b1bd18d",
   "metadata": {},
   "outputs": [],
   "source": [
    "acc = hist_dict['acc']\n",
    "acc_val = hist_dict['val_acc']"
   ]
  },
  {
   "cell_type": "code",
   "execution_count": 176,
   "id": "2227f52f-4dea-49a8-90d1-68fb1ab8623b",
   "metadata": {},
   "outputs": [
    {
     "data": {
      "image/png": "[encoded data removed]",
      "text/plain": [
       "<Figure size 432x288 with 1 Axes>"
      ]
     },
     "metadata": {
      "needs_background": "light"
     },
     "output_type": "display_data"
    }
   ],
   "source": [
    "plt.plot(epoches, acc, 'bo', label='Training accurcay')\n",
    "plt.plot(epoches, acc_val, 'b', label = 'validation acc')\n",
    "plt.title('Training validation accuracy')\n",
    "plt.xlabel('Epochs')\n",
    "plt.ylabel('Loss')\n",
    "plt.legend();"
   ]
  },
  {
   "cell_type": "code",
   "execution_count": 177,
   "id": "2a357e1a-3f9e-4dc8-82af-c2ba400a5018",
   "metadata": {},
   "outputs": [
    {
     "name": "stdout",
     "output_type": "stream",
     "text": [
      "Epoch 1/4\n",
      "25000/25000 [==============================] - 3s 128us/step - loss: 0.1503 - acc: 0.9665\n",
      "Epoch 2/4\n",
      "25000/25000 [==============================] - 1s 52us/step - loss: 0.0914 - acc: 0.9765\n",
      "Epoch 3/4\n",
      "25000/25000 [==============================] - 1s 51us/step - loss: 0.0655 - acc: 0.9836\n",
      "Epoch 4/4\n",
      "25000/25000 [==============================] - 1s 53us/step - loss: 0.0480 - acc: 0.9880\n"
     ]
    },
    {
     "data": {
      "text/plain": [
       "<tensorflow.python.keras.callbacks.History at 0x7fb3f7dc5640>"
      ]
     },
     "execution_count": 177,
     "metadata": {},
     "output_type": "execute_result"
    }
   ],
   "source": [
    "network.fit(x_train, y_train, epochs=4, batch_size=512)"
   ]
  },
  {
   "cell_type": "code",
   "execution_count": 178,
   "id": "499806b7-b851-423d-afef-acacfee50ff3",
   "metadata": {},
   "outputs": [
    {
     "name": "stdout",
     "output_type": "stream",
     "text": [
      "25000/25000 [==============================] - 3s 119us/step\n"
     ]
    }
   ],
   "source": [
    "result = network.evaluate(x_test, y_test)"
   ]
  },
  {
   "cell_type": "code",
   "execution_count": 179,
   "id": "498fba47-2ad4-4b07-846b-697eb7c520f1",
   "metadata": {},
   "outputs": [
    {
     "data": {
      "text/plain": [
       "[0.5880649370193481, 0.854]"
      ]
     },
     "execution_count": 179,
     "metadata": {},
     "output_type": "execute_result"
    }
   ],
   "source": [
    "result #85%"
   ]
  },
  {
   "cell_type": "code",
   "execution_count": 180,
   "id": "a2c797a5-8b0c-4577-b8cb-2d1435b56fc6",
   "metadata": {},
   "outputs": [
    {
     "data": {
      "text/plain": [
       "array([[0.01075898],\n",
       "       [0.99999106],\n",
       "       [0.99998   ],\n",
       "       ...,\n",
       "       [0.17521335],\n",
       "       [0.00464707],\n",
       "       [0.98812443]], dtype=float32)"
      ]
     },
     "execution_count": 180,
     "metadata": {},
     "output_type": "execute_result"
    }
   ],
   "source": [
    "network.predict(x_test)"
   ]
  },
  {
   "cell_type": "code",
   "execution_count": null,
   "id": "e44f76ec-a7af-451a-9f65-6ad6008bb8c9",
   "metadata": {},
   "outputs": [],
   "source": []
  }
 ],
 "metadata": {
  "kernelspec": {
   "display_name": "Python 3 (ipykernel)",
   "language": "python",
   "name": "python3"
  },
  "language_info": {
   "codemirror_mode": {
    "name": "ipython",
    "version": 3
   },
   "file_extension": ".py",
   "mimetype": "text/x-python",
   "name": "python",
   "nbconvert_exporter": "python",
   "pygments_lexer": "ipython3",
   "version": "3.9.7"
  }
 },
 "nbformat": 4,
 "nbformat_minor": 5
}
